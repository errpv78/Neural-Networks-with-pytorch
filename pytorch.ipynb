{
 "cells": [
  {
   "cell_type": "code",
   "execution_count": 1,
   "metadata": {},
   "outputs": [
    {
     "name": "stdout",
     "output_type": "stream",
     "text": [
      "tensor([[-0.6238, -1.2271, -0.1789, -1.3841,  0.8407]])\n",
      "tensor([[0.7961, 0.9875, 0.1213, 0.3976, 0.8711]])\n",
      "tensor([[-0.4036]])\n",
      "tensor([[-1.5481]])\n",
      "tensor([[0.1244]])\n",
      "tensor([[0.1244]])\n",
      "\n",
      "\n",
      " tensor([[-0.6238, -1.2271, -0.1789, -1.3841,  0.8407]])\n",
      "tensor([[-0.6238],\n",
      "        [-1.2271],\n",
      "        [-0.1789],\n",
      "        [-1.3841],\n",
      "        [ 0.8407]])\n",
      "tensor([[-0.6238, -1.2271, -0.1789, -1.3841,  0.8407]])\n",
      "tensor([[-0.6238],\n",
      "        [-1.2271],\n",
      "        [-0.1789],\n",
      "        [-1.3841],\n",
      "        [ 0.8407]])\n"
     ]
    }
   ],
   "source": [
    "\"\"\"Basic neural network\"\"\"\n",
    "import torch\n",
    "def activation(x):\n",
    "    return 1/(1+torch.exp(-x))\n",
    "\n",
    "torch.manual_seed(78)\n",
    "features = torch.randn((1,5)) # matrix of 1*5, these are features\n",
    "weights = torch.rand_like(features) # to create a random matrix with\n",
    "# same dimensions as features\n",
    "\n",
    "bias = torch.randn((1,1))\n",
    "print(features)\n",
    "print(weights)\n",
    "print(bias)\n",
    "# print(features.t())\n",
    "print(torch.matmul(weights,features.t()))\n",
    "\n",
    "# Calculating output\n",
    "output = torch.matmul(weights, features.t()) + bias\n",
    "\n",
    "y=activation((output))\n",
    "print(y)\n",
    "\n",
    "y1 = activation(torch.mm(weights, features.t()) + bias) \n",
    "# mm better than matmul, because mm gives error if something is not right\n",
    "# but matmul doesn't.\n",
    "print(y1)\n",
    "\n",
    "\n",
    "\n",
    "# reshaping tensors\n",
    "print(\"\\n\\n\",features)\n",
    "features = features.reshape(5,1)\n",
    "print(features)\n",
    "features = features.resize_(1,5)\n",
    "print(features)\n",
    "features = features.view(5,1) # best of lot\n",
    "print(features)"
   ]
  },
  {
   "cell_type": "code",
   "execution_count": 2,
   "metadata": {},
   "outputs": [
    {
     "name": "stdout",
     "output_type": "stream",
     "text": [
      "tensor([[0.6124, 0.9520]])\n",
      "tensor([[0.2657]])\n"
     ]
    }
   ],
   "source": [
    "# Neural network with hidden layer\n",
    "torch.manual_seed(78)\n",
    "\n",
    "features=torch.randn((1,3))\n",
    "# print(features)\n",
    "\n",
    "n_input = features.shape[1]   # no of input units\n",
    "# print(n_input)\n",
    "\n",
    "n_hidden = 2   # no of elements in hidden layer(only 1 hidden layer)\n",
    "n_output = 1   # no of elements in putput \n",
    "\n",
    "# weights for inputs to hidden layer\n",
    "w1 = torch.randn(n_input, n_hidden)   # 3,2\n",
    "# print(w1)\n",
    "\n",
    "# weights for hidden layer to output layers\n",
    "w2 = torch.randn(n_hidden, n_output)  # 2,1\n",
    "# print(w2)\n",
    "\n",
    "# and bias terms for hidden and output layers\n",
    "b1 = torch.randn(1, n_hidden)\n",
    "# print(b1)\n",
    "b2 = torch.randn(1, n_output)\n",
    "# print(b2)\n",
    "\n",
    "# calculating hidden layer nodes\n",
    "h = activation(torch.mm( features,w1) + b1)\n",
    "# print(torch.mm( features,w1) , b1)\n",
    "print(h)\n",
    "\n",
    "y = activation(torch.mm(h,w2) +b2)\n",
    "print(y)"
   ]
  },
  {
   "cell_type": "code",
   "execution_count": 3,
   "metadata": {},
   "outputs": [
    {
     "name": "stdout",
     "output_type": "stream",
     "text": [
      "[[0.02176012 0.42681666 0.44484458]\n",
      " [0.30227733 0.84809405 0.29347909]\n",
      " [0.98662679 0.70745863 0.07498191]\n",
      " [0.52711625 0.35272845 0.79364727]]\n",
      "tensor([[0.0218, 0.4268, 0.4448],\n",
      "        [0.3023, 0.8481, 0.2935],\n",
      "        [0.9866, 0.7075, 0.0750],\n",
      "        [0.5271, 0.3527, 0.7936]], dtype=torch.float64)\n",
      "[[0.02176012 0.42681666 0.44484458]\n",
      " [0.30227733 0.84809405 0.29347909]\n",
      " [0.98662679 0.70745863 0.07498191]\n",
      " [0.52711625 0.35272845 0.79364727]]\n",
      "tensor([[0.0435, 0.8536, 0.8897],\n",
      "        [0.6046, 1.6962, 0.5870],\n",
      "        [1.9733, 1.4149, 0.1500],\n",
      "        [1.0542, 0.7055, 1.5873]], dtype=torch.float64)\n",
      "[[0.04352024 0.85363332 0.88968915]\n",
      " [0.60455466 1.69618811 0.58695817]\n",
      " [1.97325358 1.41491725 0.14996382]\n",
      " [1.05423251 0.7054569  1.58729455]]\n"
     ]
    }
   ],
   "source": [
    "# Numpy and torch tensor , array conversion\n",
    "import numpy as np\n",
    "a = np.random.rand(4,3)\n",
    "print(a)\n",
    "\n",
    "b = torch.from_numpy(a)\n",
    "print(b)\n",
    "\n",
    "print(b.numpy())\n",
    "\n",
    "# the memory is shared between numpy array and torch tensor, if we change\n",
    "# values of one inplace then other's value will also change\n",
    "print(b.mul_(2)) # .mul_ implice inplace , .mul is nor inplace\n",
    "print(a)"
   ]
  },
  {
   "cell_type": "markdown",
   "metadata": {},
   "source": [
    "# Building large neural network on mnist dataset\n"
   ]
  },
  {
   "cell_type": "code",
   "execution_count": 4,
   "metadata": {},
   "outputs": [
    {
     "name": "stdout",
     "output_type": "stream",
     "text": [
      "Compose(\n",
      "    ToTensor()\n",
      "    Normalize(mean=(0.5,), std=(0.5,))\n",
      ")\n",
      "<class 'torchvision.datasets.mnist.MNIST'> Dataset MNIST\n",
      "    Number of datapoints: 60000\n",
      "    Root location: MNIST_data/\n",
      "    Split: Train\n",
      "    StandardTransform\n",
      "Transform: Compose(\n",
      "               ToTensor()\n",
      "               Normalize(mean=(0.5,), std=(0.5,))\n",
      "           )\n",
      "\n",
      "\n",
      "\n",
      " <class 'torch.utils.data.dataloader.DataLoader'> <torch.utils.data.dataloader.DataLoader object at 0x7f59621610d0>\n"
     ]
    }
   ],
   "source": [
    "from torchvision import datasets, transforms\n",
    "import torch\n",
    "import matplotlib.pyplot as plt\n",
    "\n",
    "# print('Started')\n",
    "\n",
    "# transform = transforms.Compose([transforms.ToTensor(), \n",
    "#                                transforms.Normalize((0.5,0.5,0.5), \n",
    "#                                                    (0.5,0.5,0.5)),])\n",
    "\n",
    "# Because the data set is grayscale\n",
    "transform = transforms.Compose([transforms.ToTensor(), \n",
    "                               transforms.Normalize((0.5,), \n",
    "                                                   (0.5,)),])\n",
    "\n",
    "\n",
    "\n",
    "\n",
    "\n",
    "print(transform)\n",
    "trainset = datasets.MNIST( 'MNIST_data/', download=True, train=True, transform=transform)\n",
    "print(type(trainset), trainset)\n",
    "trainloader = torch.utils.data.DataLoader(trainset, batch_size=64, shuffle=True)\n",
    "print(\"\\n\\n\\n\",type(trainloader), trainloader)\n",
    "\n",
    "# The batch size is no of images we get in one iteration from data loader\n",
    "# and pass through our network"
   ]
  },
  {
   "cell_type": "code",
   "execution_count": 5,
   "metadata": {},
   "outputs": [
    {
     "name": "stdout",
     "output_type": "stream",
     "text": [
      "<torch.utils.data.dataloader._SingleProcessDataLoaderIter object at 0x7f5990108350>\n",
      "<class 'torch.Tensor'>\n",
      "torch.Size([64, 1, 28, 28])\n",
      "torch.Size([64])\n"
     ]
    }
   ],
   "source": [
    "dataiter = iter(trainloader)\n",
    "print(dataiter)\n",
    "images, labels = dataiter.next()\n",
    "print(type(images))\n",
    "print(images.shape)\n",
    "print(labels.shape)\n"
   ]
  },
  {
   "cell_type": "code",
   "execution_count": 6,
   "metadata": {},
   "outputs": [
    {
     "data": {
      "text/plain": [
       "<matplotlib.image.AxesImage at 0x7f596204e050>"
      ]
     },
     "execution_count": 6,
     "metadata": {},
     "output_type": "execute_result"
    },
    {
     "data": {
      "image/png": "[encoded data removed]",
      "text/plain": [
       "<Figure size 432x288 with 1 Axes>"
      ]
     },
     "metadata": {
      "needs_background": "light"
     },
     "output_type": "display_data"
    }
   ],
   "source": [
    "plt.imshow(images[1].numpy().squeeze())\n",
    "# plt.imshow(images[15].numpy().squeeze(), cmap='Greys_r')"
   ]
  },
  {
   "cell_type": "code",
   "execution_count": 7,
   "metadata": {},
   "outputs": [
    {
     "name": "stdout",
     "output_type": "stream",
     "text": [
      "torch.Size([64, 256]) torch.Size([64, 10])\n",
      "tensor([ -1.1026,  23.4447,   2.6175, -17.2043,  20.8516,  -7.4765,   2.3006,\n",
      "         -0.5625,   6.4287, -16.1730])\n"
     ]
    }
   ],
   "source": [
    "images = images.view(64,784)\n",
    "# Another method to change size of inputs vector\n",
    "# # print(images.shape[0])\n",
    "# inputs = images.view(images.shape[0], -1)\n",
    "# # print(inputs.shape)\n",
    "\n",
    "\n",
    "\n",
    "\n",
    "# print(images.shape)\n",
    "# We want to build, a hidden layer with 256 units, output layer with 10 units and input layer with 784 units\n",
    "\n",
    "def activation(x):\n",
    "    return 1/(1+torch.exp(-x))\n",
    "\n",
    "n_input = 784\n",
    "n_hidden = 256\n",
    "n_output = 10\n",
    "w1 = torch.randn((n_input, n_hidden)) \n",
    "# print(w1.shape)\n",
    "w2 = torch.randn((n_hidden, n_output))\n",
    "\n",
    "# b1 = torch.randn((1,n_hidden)) # wrong way\n",
    "b1 = torch.randn(256) # correct way\n",
    "\n",
    "# b2 = torch.randn((1,n_output))\n",
    "b2 = torch.randn(n_output)\n",
    "\n",
    "h = activation(torch.mm(images, w1) +b1)\n",
    "# print(torch.mm(images, w1),b1,h)\n",
    "y = torch.mm(h, w2) +b2\n",
    "print(h.shape,y.shape)\n",
    "print(y[0])"
   ]
  },
  {
   "cell_type": "code",
   "execution_count": 8,
   "metadata": {},
   "outputs": [
    {
     "name": "stdout",
     "output_type": "stream",
     "text": [
      "\n",
      "\n",
      " torch.Size([64, 10])\n",
      "tensor([2.0321e-11, 9.3041e-01, 8.3862e-10, 2.0656e-18, 6.9586e-02, 3.4656e-14,\n",
      "        6.1084e-10, 3.4875e-11, 3.7910e-08, 5.7934e-18])\n",
      "tensor([1.0000, 1.0000, 1.0000, 1.0000, 1.0000, 1.0000, 1.0000, 1.0000, 1.0000,\n",
      "        1.0000, 1.0000, 1.0000, 1.0000, 1.0000, 1.0000, 1.0000, 1.0000, 1.0000,\n",
      "        1.0000, 1.0000, 1.0000, 1.0000, 1.0000, 1.0000, 1.0000, 1.0000, 1.0000,\n",
      "        1.0000, 1.0000, 1.0000, 1.0000, 1.0000, 1.0000, 1.0000, 1.0000, 1.0000,\n",
      "        1.0000, 1.0000, 1.0000, 1.0000, 1.0000, 1.0000, 1.0000, 1.0000, 1.0000,\n",
      "        1.0000, 1.0000, 1.0000, 1.0000, 1.0000, 1.0000, 1.0000, 1.0000, 1.0000,\n",
      "        1.0000, 1.0000, 1.0000, 1.0000, 1.0000, 1.0000, 1.0000, 1.0000, 1.0000,\n",
      "        1.0000])\n"
     ]
    }
   ],
   "source": [
    "def softmax(x):\n",
    "    return torch.exp(x) / torch.sum(torch.exp(x), dim=1).view(-1,1)\n",
    "\n",
    "# print(torch.exp(y).shape) # 64,10\n",
    "# print(torch.sum(torch.exp(y))) # 1,1 it sums of ull 64,10 tensor\n",
    "# print(torch.sum(torch.exp(y), dim=0).shape) # 10 it sums column wise\n",
    "# print(torch.sum(torch.exp(y), dim=1).shape) # 64 it sums row wise\n",
    "# print(torch.sum(torch.exp(y), dim=1).view(-1,1).shape) #64,1\n",
    "# print(torch.sum(torch.exp(y), dim=1)) #1 row, 64 columns\n",
    "# print(torch.sum(torch.exp(y), dim=1).view(-1,1)) # 64 rows with 1 cloumn\n",
    "\n",
    "probabilities = softmax(y)\n",
    "print(\"\\n\\n\",probabilities.shape)\n",
    "print(probabilities[0])\n",
    "print(probabilities.sum(dim=1))"
   ]
  },
  {
   "cell_type": "markdown",
   "metadata": {},
   "source": [
    "# Large neural network with pytorch"
   ]
  },
  {
   "cell_type": "code",
   "execution_count": 9,
   "metadata": {},
   "outputs": [],
   "source": [
    "from torch import nn\n",
    "\n",
    "class Network(nn.Module):\n",
    "    def __init__(self):\n",
    "        super().__init__()\n",
    "        \n",
    "        # Inputs to hidden layer, to perform linear transformation\n",
    "        self.hidden = nn.Linear(784, 256)\n",
    "        # taking inputs,multiply by weights, add bias is a linear\n",
    "        # transformation\n",
    "        # Output layer linear transformation\n",
    "        self.output = nn.Linear(256, 10)\n",
    "        \n",
    "        # sigmoid and softmax function\n",
    "        self.sigmoid = nn.Sigmoid()\n",
    "        self.softmax = nn.Softmax(dim=1)\n",
    "        \n",
    "    def forward(self, x):\n",
    "        # Passing input tensor through our operations\n",
    "        x = self.hidden(x)\n",
    "        x = self.sigmoid(x)\n",
    "        x = self.output(x)\n",
    "        x = self.softmax(x)\n",
    "        \n",
    "        return x"
   ]
  },
  {
   "cell_type": "code",
   "execution_count": 10,
   "metadata": {},
   "outputs": [
    {
     "data": {
      "text/plain": [
       "Network(\n",
       "  (hidden): Linear(in_features=784, out_features=256, bias=True)\n",
       "  (output): Linear(in_features=256, out_features=10, bias=True)\n",
       "  (sigmoid): Sigmoid()\n",
       "  (softmax): Softmax(dim=1)\n",
       ")"
      ]
     },
     "execution_count": 10,
     "metadata": {},
     "output_type": "execute_result"
    }
   ],
   "source": [
    "model = Network()\n",
    "model"
   ]
  },
  {
   "cell_type": "code",
   "execution_count": 11,
   "metadata": {},
   "outputs": [],
   "source": [
    "# Using torch.nn.functional module to do it more cleanly\n",
    "import torch.nn.functional as F\n",
    "class Network1(nn.Module):\n",
    "    def __init__(self):\n",
    "        super().__init__()\n",
    "        \n",
    "        # Inputs to hidden layer, to perform linear transformation\n",
    "        self.hidden = nn.Linear(784, 256)\n",
    "        # Output layer linear transformation\n",
    "        self.output = nn.Linear(256, 10)\n",
    "        \n",
    "    def forward(self, x):\n",
    "        # Hidden layer with sigmoid function\n",
    "        x = F.sigmoid(self.hidden(x))\n",
    "        x = F.softmax(self.output(x), dim=1)\n",
    "        \n",
    "        return x"
   ]
  },
  {
   "cell_type": "code",
   "execution_count": 12,
   "metadata": {},
   "outputs": [
    {
     "data": {
      "text/plain": [
       "Network1(\n",
       "  (hidden): Linear(in_features=784, out_features=256, bias=True)\n",
       "  (output): Linear(in_features=256, out_features=10, bias=True)\n",
       ")"
      ]
     },
     "execution_count": 12,
     "metadata": {},
     "output_type": "execute_result"
    }
   ],
   "source": [
    "model1 = Network1()\n",
    "model1"
   ]
  },
  {
   "cell_type": "markdown",
   "metadata": {},
   "source": [
    "# Multi-layer Neural net with ReLu activation"
   ]
  },
  {
   "cell_type": "code",
   "execution_count": 13,
   "metadata": {},
   "outputs": [
    {
     "name": "stdout",
     "output_type": "stream",
     "text": [
      "Network(\n",
      "  (hidden1): Linear(in_features=784, out_features=128, bias=True)\n",
      "  (hidden2): Linear(in_features=128, out_features=64, bias=True)\n",
      "  (output): Linear(in_features=64, out_features=10, bias=True)\n",
      ")\n"
     ]
    }
   ],
   "source": [
    "import torch.nn.functional as F\n",
    "class Network(nn.Module):\n",
    "    def __init__(self):\n",
    "        super().__init__()\n",
    "        \n",
    "        # Inputs to hidden layer, to perform linear transformation\n",
    "        self.hidden1 = nn.Linear(784, 128)\n",
    "        self.hidden2 = nn.Linear(128, 64)\n",
    "        \n",
    "        # Output layer linear transformation\n",
    "        self.output = nn.Linear(64, 10)\n",
    "        \n",
    "    def forward(self, x):\n",
    "        # Hidden layer with sigmoid function\n",
    "        x = F.relu(self.hidden1(x))\n",
    "        x = F.relu(self.hidden2(x))\n",
    "        x = F.softmax(self.output(x), dim=1)\n",
    "        \n",
    "        return x\n",
    "model = Network()\n",
    "print(model)"
   ]
  },
  {
   "cell_type": "markdown",
   "metadata": {},
   "source": [
    "# Training neural network, and calculating loss"
   ]
  },
  {
   "cell_type": "code",
   "execution_count": 14,
   "metadata": {},
   "outputs": [
    {
     "name": "stdout",
     "output_type": "stream",
     "text": [
      "torch.Size([64, 784])\n",
      "torch.Size([64, 10])\n",
      "tensor([-0.2376,  0.0800, -0.1280,  0.1755,  0.1515,  0.0447, -0.0729,  0.1273,\n",
      "        -0.1324, -0.0207], grad_fn=<SelectBackward>)\n",
      "tensor(2.3066, grad_fn=<NllLossBackward>)\n"
     ]
    }
   ],
   "source": [
    "import torch.nn.functional as F\n",
    "class Network(nn.Module):\n",
    "    def __init__(self):\n",
    "        super().__init__()\n",
    "        \n",
    "        # Inputs to hidden layer, to perform linear transformation\n",
    "        self.hidden1 = nn.Linear(784, 128)\n",
    "        self.hidden2 = nn.Linear(128, 64)\n",
    "        \n",
    "        # Output layer linear transformation\n",
    "        self.output = nn.Linear(64, 10)\n",
    "        \n",
    "    def forward(self, x):\n",
    "        # Hidden layer with sigmoid function\n",
    "        x = F.relu(self.hidden1(x))\n",
    "        x = F.relu(self.hidden2(x))\n",
    "        x = self.output(x)\n",
    "        \n",
    "        return x\n",
    "model = Network()\n",
    "\n",
    "# loss\n",
    "criterion = nn.CrossEntropyLoss()\n",
    "\n",
    "# calculating logits\n",
    "# Logits is a function which operates on the unscaled output of earlier\n",
    "# layers and on a linear scale to understand the linear units. In \n",
    "# Mathematics, Logits is a function that maps probabilities ( [0, 1] )\n",
    "# to R ( (-inf, inf) ) .\n",
    "print(images.shape)\n",
    "logits = model(images)\n",
    "print(logits.shape)\n",
    "print(logits[0])\n",
    "loss = criterion(logits, labels)\n",
    "print(loss)"
   ]
  },
  {
   "cell_type": "code",
   "execution_count": 15,
   "metadata": {},
   "outputs": [
    {
     "name": "stdout",
     "output_type": "stream",
     "text": [
      "tensor([-2.1262, -2.5900, -2.3197, -2.4384, -2.1363, -2.0870, -2.3810, -2.3205,\n",
      "        -2.3346, -2.4035], grad_fn=<SelectBackward>)\n",
      "tensor(2.3256, grad_fn=<NllLossBackward>)\n"
     ]
    }
   ],
   "source": [
    "# using log-softmax as output activatio function and negative log likelihood\n",
    "# loss as loss criterion\n",
    "model = nn.Sequential(nn.Linear(784, 128),\n",
    "                     nn.ReLU(),\n",
    "                     nn.Linear(128, 64),\n",
    "                     nn.ReLU(),\n",
    "                     nn.Linear(64, 10),\n",
    "                     nn.LogSoftmax(dim=1) #log softmax as output\n",
    "                     )\n",
    "# model\n",
    "\n",
    "criterion = nn.NLLLoss() # calculating loss as negative log liklihood\n",
    "# loss\n",
    "\n",
    "log_probability = model(images)\n",
    "print(log_probability[0])\n",
    "loss = criterion(log_probability, labels)\n",
    "print(loss)"
   ]
  },
  {
   "cell_type": "markdown",
   "metadata": {},
   "source": [
    "# Autograd"
   ]
  },
  {
   "cell_type": "code",
   "execution_count": 16,
   "metadata": {},
   "outputs": [
    {
     "name": "stdout",
     "output_type": "stream",
     "text": [
      "tensor([[-0.6238, -1.2271],\n",
      "        [-0.1789, -1.3841]], requires_grad=True)\n",
      "tensor([[0.3892, 1.5057],\n",
      "        [0.0320, 1.9158]], grad_fn=<PowBackward0>)\n",
      "<PowBackward0 object at 0x7f59625c8550>\n",
      "tensor(0.9607, grad_fn=<MeanBackward0>)\n",
      "None None\n",
      "tensor([[-0.3119, -0.6135],\n",
      "        [-0.0895, -0.6921]])\n",
      "tensor([[-0.3119, -0.6135],\n",
      "        [-0.0895, -0.6921]], grad_fn=<DivBackward0>)\n"
     ]
    }
   ],
   "source": [
    "# Performing back propagation using autograd. Autograd works by keeping \n",
    "# track of operations performed on tensors, then going backwards through\n",
    "# those operations, calculating gradients along the way. But we have to\n",
    "# set requires_grad parameter to True of tensor\n",
    "# torch.no_grad() to revert\n",
    "# torch.set_grad_enabled(True | False)\n",
    "torch.manual_seed(78)\n",
    "x = torch.randn(2, 2, requires_grad=True)\n",
    "print(x)\n",
    "\n",
    "y = x**2\n",
    "print(y)\n",
    "\n",
    "# To know ehich function generated variable y, pow function\n",
    "print(y.grad_fn)\n",
    "\n",
    "z = y.mean()\n",
    "print(z)\n",
    "\n",
    "print(x.grad,y.grad)\n",
    "# currently grad og x,y are empty\n",
    "# to calculate gradients we have to run backward on z, this will calculate\n",
    "# gradient of z wrt x\n",
    "\n",
    "z.backward()\n",
    "print(x.grad)\n",
    "print(x/2)"
   ]
  },
  {
   "cell_type": "code",
   "execution_count": 17,
   "metadata": {},
   "outputs": [
    {
     "name": "stdout",
     "output_type": "stream",
     "text": [
      "Before backward pass:\n",
      " None\n",
      " After backward pass:\n",
      " tensor([[ 0.0029,  0.0029,  0.0029,  ...,  0.0029,  0.0029,  0.0029],\n",
      "        [-0.0011, -0.0011, -0.0011,  ..., -0.0011, -0.0011, -0.0011],\n",
      "        [ 0.0002,  0.0002,  0.0002,  ...,  0.0002,  0.0002,  0.0002],\n",
      "        ...,\n",
      "        [-0.0021, -0.0021, -0.0021,  ..., -0.0021, -0.0021, -0.0021],\n",
      "        [ 0.0001,  0.0001,  0.0001,  ...,  0.0001,  0.0001,  0.0001],\n",
      "        [-0.0005, -0.0005, -0.0005,  ..., -0.0005, -0.0005, -0.0005]])\n"
     ]
    }
   ],
   "source": [
    "# Loss and autograd\n",
    "model = nn.Sequential(nn.Linear(784, 128),\n",
    "                     nn.ReLU(),\n",
    "                     nn.Linear(128, 64),\n",
    "                     nn.ReLU(),\n",
    "                     nn.Linear(64, 10),\n",
    "                     nn.LogSoftmax(dim=1))\n",
    "\n",
    "criterion = nn.NLLLoss()\n",
    "images, labels = next(iter(trainloader))\n",
    "images = images.view(images.shape[0], -1)\n",
    "\n",
    "log_prob = model(images)\n",
    "loss = criterion(log_prob, labels)\n",
    "\n",
    "print('Before backward pass:\\n', model[0].weight.grad)\n",
    "\n",
    "loss.backward()\n",
    "\n",
    "print(' After backward pass:\\n', model[0].weight.grad)"
   ]
  },
  {
   "cell_type": "code",
   "execution_count": 18,
   "metadata": {},
   "outputs": [
    {
     "name": "stdout",
     "output_type": "stream",
     "text": [
      "Initial weights -  Parameter containing:\n",
      "tensor([[-0.0274,  0.0156,  0.0121,  ..., -0.0352,  0.0251,  0.0153],\n",
      "        [-0.0166,  0.0113, -0.0022,  ..., -0.0041, -0.0097, -0.0180],\n",
      "        [-0.0202, -0.0013,  0.0287,  ...,  0.0140,  0.0125, -0.0102],\n",
      "        ...,\n",
      "        [-0.0299,  0.0229, -0.0042,  ..., -0.0220,  0.0047, -0.0133],\n",
      "        [ 0.0085, -0.0207,  0.0202,  ...,  0.0053,  0.0309,  0.0026],\n",
      "        [-0.0190,  0.0194, -0.0260,  ...,  0.0096,  0.0197,  0.0052]],\n",
      "       requires_grad=True)\n",
      "Gradient - tensor([[ 0.0028,  0.0028,  0.0028,  ...,  0.0028,  0.0028,  0.0028],\n",
      "        [-0.0008, -0.0008, -0.0008,  ..., -0.0008, -0.0008, -0.0008],\n",
      "        [ 0.0029,  0.0029,  0.0029,  ...,  0.0029,  0.0029,  0.0029],\n",
      "        ...,\n",
      "        [-0.0005, -0.0005, -0.0005,  ..., -0.0005, -0.0005, -0.0005],\n",
      "        [ 0.0006,  0.0006,  0.0006,  ...,  0.0006,  0.0006,  0.0006],\n",
      "        [ 0.0014,  0.0014,  0.0014,  ...,  0.0014,  0.0014,  0.0014]])\n"
     ]
    }
   ],
   "source": [
    "# Upgrading weights using optimizers, like optim.SGD (stochastic gradient\n",
    "# descent)\n",
    "from torch import optim\n",
    "\n",
    "# optimizers require parameters to optimize and a learning rate\n",
    "optimizer = optim.SGD(model.parameters(), lr=0.1)\n",
    "\n",
    "# The general process of training\n",
    "\"\"\"1) Make a forward pass through network.\n",
    "2) Use network output to calculate loss\n",
    "3) Perform backward pass through network with loss.backward() to calculate\n",
    "gradients\n",
    "4) Take a step with optimizer to update weights.\"\"\"\n",
    "\n",
    "print('Initial weights - ', model[0].weight)\n",
    "\n",
    "images, labels = next(iter(trainloader))\n",
    "images.resize_(64, 784)\n",
    "\n",
    "# Clear gradients, it is required because gradients are accumulated,\n",
    "# it is called before every training pass\n",
    "optimizer.zero_grad()\n",
    "\n",
    "output = model.forward(images)\n",
    "loss = criterion(output, labels)\n",
    "loss.backward()\n",
    "print('Gradient -', model[0].weight.grad)"
   ]
  },
  {
   "cell_type": "code",
   "execution_count": 19,
   "metadata": {},
   "outputs": [
    {
     "name": "stdout",
     "output_type": "stream",
     "text": [
      "Updated weights - Parameter containing:\n",
      "tensor([[-0.0277,  0.0154,  0.0118,  ..., -0.0355,  0.0248,  0.0150],\n",
      "        [-0.0166,  0.0114, -0.0021,  ..., -0.0040, -0.0096, -0.0180],\n",
      "        [-0.0205, -0.0016,  0.0284,  ...,  0.0137,  0.0122, -0.0105],\n",
      "        ...,\n",
      "        [-0.0299,  0.0229, -0.0041,  ..., -0.0220,  0.0047, -0.0132],\n",
      "        [ 0.0085, -0.0208,  0.0201,  ...,  0.0052,  0.0308,  0.0026],\n",
      "        [-0.0192,  0.0193, -0.0262,  ...,  0.0095,  0.0195,  0.0051]],\n",
      "       requires_grad=True)\n"
     ]
    }
   ],
   "source": [
    "# Take update ste to update weights\n",
    "optimizer.step()\n",
    "print('Updated weights -', model[0].weight)"
   ]
  },
  {
   "cell_type": "markdown",
   "metadata": {},
   "source": [
    "# Training the whole MNIST dataset"
   ]
  },
  {
   "cell_type": "code",
   "execution_count": 20,
   "metadata": {},
   "outputs": [
    {
     "name": "stdout",
     "output_type": "stream",
     "text": [
      "Training loss: 1.8967233725956507\n",
      "Training loss: 0.8649482572002452\n",
      "Training loss: 0.5397959950445558\n",
      "Training loss: 0.4401901340179606\n",
      "Training loss: 0.3918095511445867\n"
     ]
    }
   ],
   "source": [
    "model = nn.Sequential(nn.Linear(784, 128),\n",
    "                     nn.ReLU(),\n",
    "                     nn.Linear(128, 64),\n",
    "                     nn.ReLU(),\n",
    "                     nn.Linear(64, 10),\n",
    "                     nn.LogSoftmax(dim=1))\n",
    "\n",
    "criterion = nn.NLLLoss()\n",
    "optimizer = optim.SGD(model.parameters(), lr=0.003)\n",
    "\n",
    "epochs = 5\n",
    "for e in range(epochs):\n",
    "    running_loss = 0\n",
    "    for images, labels in trainloader:\n",
    "        # print(images.shape[0]) # 64\n",
    "        images = images.view(images.shape[0], -1)\n",
    "        # print(images.shape) # [64, 784]\n",
    "        \n",
    "        optimizer.zero_grad() # it is very important step\n",
    "\n",
    "        output = model.forward(images)\n",
    "        loss = criterion(output, labels)\n",
    "        loss.backward()\n",
    "        optimizer.step()\n",
    "        running_loss += loss.item()\n",
    "    else:\n",
    "        print(\"Training loss:\", running_loss/len(trainloader))\n",
    "        "
   ]
  },
  {
   "cell_type": "code",
   "execution_count": 37,
   "metadata": {},
   "outputs": [
    {
     "data": {
      "text/plain": [
       "<Figure size 432x288 with 0 Axes>"
      ]
     },
     "metadata": {},
     "output_type": "display_data"
    },
    {
     "data": {
      "image/png": "[encoded data removed]",
      "text/plain": [
       "<Figure size 432x648 with 2 Axes>"
      ]
     },
     "metadata": {
      "needs_background": "light"
     },
     "output_type": "display_data"
    }
   ],
   "source": [
    "# import matplotlib\n",
    "%matplotlib inline\n",
    "import matplotlib.pyplot as plt\n",
    "import numpy as np\n",
    "\n",
    "def view_classify(img, ps, version=\"MNIST\"):\n",
    "    ''' Function for viewing an image and it's predicted classes.\n",
    "    '''\n",
    "    ps = ps.data.numpy().squeeze()\n",
    "\n",
    "    fig, (ax1, ax2) = plt.subplots(figsize=(6,9), ncols=2)\n",
    "    ax1.imshow(img.resize_(1, 28, 28).numpy().squeeze())\n",
    "    ax1.axis('off')\n",
    "    ax2.barh(np.arange(10), ps)\n",
    "    ax2.set_aspect(0.1)\n",
    "    ax2.set_yticks(np.arange(10))\n",
    "    if version == \"MNIST\":\n",
    "        ax2.set_yticklabels(np.arange(10))\n",
    "    elif version == \"Fashion\":\n",
    "        ax2.set_yticklabels(['T-shirt/top',\n",
    "                            'Trouser',\n",
    "                            'Pullover',\n",
    "                            'Dress',\n",
    "                            'Coat',\n",
    "                            'Sandal',\n",
    "                            'Shirt',\n",
    "                            'Sneaker',\n",
    "                            'Bag',\n",
    "                            'Ankle Boot'], size='small');\n",
    "    ax2.set_title('Class Probability')\n",
    "    ax2.set_xlim(0, 1.1)\n",
    "\n",
    "plt.tight_layout()\n",
    "\n",
    "images, labels = next(iter(trainloader))\n",
    "img = images[0].view(1, 784)\n",
    "\n",
    "# Turning off gradients to spped up this part\n",
    "with torch.no_grad():\n",
    "    logits = model.forward(img)\n",
    "    \n",
    "# output of this network are logits, need to take softmax for probabilities\n",
    "prob = F.softmax(logits, dim=1)\n",
    "view_classify(img.view(1, 28, 28), prob)"
   ]
  },
  {
   "cell_type": "code",
   "execution_count": 28,
   "metadata": {},
   "outputs": [],
   "source": [
    "# help(helper)"
   ]
  },
  {
   "cell_type": "code",
   "execution_count": null,
   "metadata": {},
   "outputs": [],
   "source": []
  }
 ],
 "metadata": {
  "kernelspec": {
   "display_name": "Python 3",
   "language": "python",
   "name": "python3"
  },
  "language_info": {
   "codemirror_mode": {
    "name": "ipython",
    "version": 3
   },
   "file_extension": ".py",
   "mimetype": "text/x-python",
   "name": "python",
   "nbconvert_exporter": "python",
   "pygments_lexer": "ipython3",
   "version": "3.7.5"
  }
 },
 "nbformat": 4,
 "nbformat_minor": 2
}
