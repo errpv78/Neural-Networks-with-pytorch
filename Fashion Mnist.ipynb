{
 "cells": [
  {
   "cell_type": "markdown",
   "metadata": {},
   "source": [
    "# Developing a neural network for Fashion MNIST dataset"
   ]
  },
  {
   "cell_type": "code",
   "execution_count": 1,
   "metadata": {},
   "outputs": [],
   "source": [
    "from torchvision import datasets, transforms\n",
    "import torch\n",
    "\n",
    "transform = transforms.Compose([transforms.ToTensor(),\n",
    "                               transforms.Normalize((0.5,),\n",
    "                              (0.5,)),])\n",
    "trainset = datasets.FashionMNIST('FashionMNIST_data', download = True,\n",
    "                                transform = transform)\n",
    "trainloader = torch.utils.data.DataLoader(trainset, batch_size = 100, shuffle=True)"
   ]
  },
  {
   "cell_type": "code",
   "execution_count": 2,
   "metadata": {},
   "outputs": [
    {
     "name": "stdout",
     "output_type": "stream",
     "text": [
      "torch.Size([100, 1, 28, 28]) torch.Size([100])\n"
     ]
    }
   ],
   "source": [
    "dataiter = iter(trainloader)\n",
    "images, labels = dataiter.next()\n",
    "print(images.shape, labels.shape)"
   ]
  },
  {
   "cell_type": "code",
   "execution_count": 3,
   "metadata": {},
   "outputs": [
    {
     "data": {
      "text/plain": [
       "<matplotlib.image.AxesImage at 0x7ff56e0d16d0>"
      ]
     },
     "execution_count": 3,
     "metadata": {},
     "output_type": "execute_result"
    },
    {
     "data": {
      "image/png": "[encoded data removed]",
      "text/plain": [
       "<Figure size 432x288 with 1 Axes>"
      ]
     },
     "metadata": {
      "needs_background": "light"
     },
     "output_type": "display_data"
    }
   ],
   "source": [
    "import matplotlib.pyplot as plt\n",
    "plt.imshow(images[1].numpy().squeeze(), cmap='Greys_r')"
   ]
  },
  {
   "cell_type": "code",
   "execution_count": 4,
   "metadata": {},
   "outputs": [
    {
     "name": "stdout",
     "output_type": "stream",
     "text": [
      "Training Loss in epooc 0 : 328.5106117427349\n",
      "Training Loss in epooc 1 : 253.8107836395502\n",
      "Training Loss in epooc 2 : 242.11363898217678\n",
      "Training Loss in epooc 3 : 228.90288399159908\n",
      "Training Loss in epooc 4 : 221.5439964234829\n",
      "Training Loss in epooc 5 : 221.36711908876896\n",
      "Training Loss in epooc 6 : 215.37593264132738\n",
      "Training Loss in epooc 7 : 209.10553628206253\n",
      "Training Loss in epooc 8 : 212.24082124233246\n",
      "Training Loss in epooc 9 : 203.4146065413952\n"
     ]
    }
   ],
   "source": [
    "from torch import nn\n",
    "from torch import optim\n",
    "model = nn.Sequential(nn.Linear(784, 156),\n",
    "                     nn.ReLU(),\n",
    "                     nn.Linear(156, 78),\n",
    "                     nn.ReLU(),\n",
    "                     nn.Linear(78, 10),\n",
    "                     nn.LogSoftmax(dim=1))\n",
    "\n",
    "criterion = nn.NLLLoss()\n",
    "optimizer = optim.Adam(model.parameters(), lr = 0.01)\n",
    "# Adam optimizer uses momentum to speed up fitting process, and also\n",
    "# adjust learning rate for each of individual parameter in model.\n",
    "\n",
    "epochs = 10\n",
    "for e in range(epochs):\n",
    "    current_epoch_loss = 0\n",
    "    for images, labels in trainloader:\n",
    "        images = images.view(images.shape[0], -1)\n",
    "        optimizer.zero_grad()\n",
    "        output = model.forward(images)\n",
    "        \n",
    "        loss = criterion(output, labels)\n",
    "        loss.backward()\n",
    "        optimizer.step()\n",
    "        current_epoch_loss += loss.item()\n",
    "    else:\n",
    "        print(\"Training Loss in epooc\",e,\":\",current_epoch_loss)\n",
    "        \n",
    "        \n",
    "        "
   ]
  },
  {
   "cell_type": "code",
   "execution_count": 5,
   "metadata": {},
   "outputs": [
    {
     "data": {
      "image/png": "[encoded data removed]",
      "text/plain": [
       "<Figure size 432x648 with 2 Axes>"
      ]
     },
     "metadata": {
      "needs_background": "light"
     },
     "output_type": "display_data"
    }
   ],
   "source": [
    "%matplotlib inline\n",
    "import matplotlib.pyplot as plt\n",
    "import numpy as np\n",
    "\n",
    "def view_classify(img, ps, version=\"MNIST\"):\n",
    "    ''' Function for viewing an image and it's predicted classes.\n",
    "    '''\n",
    "    ps = ps.data.numpy().squeeze()\n",
    "\n",
    "    fig, (ax1, ax2) = plt.subplots(figsize=(6,9), ncols=2)\n",
    "    ax1.imshow(img.resize_(1, 28, 28).numpy().squeeze())\n",
    "    ax1.axis('off')\n",
    "    ax2.barh(np.arange(10), ps)\n",
    "    ax2.set_aspect(0.1)\n",
    "    ax2.set_yticks(np.arange(10))\n",
    "    if version == \"MNIST\":\n",
    "        ax2.set_yticklabels(np.arange(10))\n",
    "    elif version == \"Fashion\":\n",
    "        ax2.set_yticklabels(['T-shirt/top',\n",
    "                            'Trouser',\n",
    "                            'Pullover',\n",
    "                            'Dress',\n",
    "                            'Coat',\n",
    "                            'Sandal',\n",
    "                            'Shirt',\n",
    "                            'Sneaker',\n",
    "                            'Bag',\n",
    "                            'Ankle Boot'], size='small');\n",
    "    ax2.set_title('Class Probability')\n",
    "    ax2.set_xlim(0, 1.1)\n",
    "\n",
    "import torch.nn.functional as F\n",
    "images, labels = next(iter(trainloader))\n",
    "img = images[0].view(1, 784)\n",
    "\n",
    "# Turning off gradients to spped up this part\n",
    "with torch.no_grad():\n",
    "    logits = model.forward(img)\n",
    "    \n",
    "# output of this network are logits, need to take softmax for probabilities\n",
    "prob = F.softmax(logits, dim=1)\n",
    "view_classify(img.view(1, 28, 28), prob, 'Fashion')"
   ]
  },
  {
   "cell_type": "markdown",
   "metadata": {},
   "source": [
    "# Validation"
   ]
  },
  {
   "cell_type": "code",
   "execution_count": 6,
   "metadata": {},
   "outputs": [],
   "source": [
    "# Using a trained network for making predictions is called inference.\n",
    "# Neural networks have a tendency to perform well on training data and\n",
    "# aren't able to generalize to unseen data, ie overfitting. \n",
    "# To test for overfitting while training, we measure performance on data \n",
    "# not in training set, called Validation set.\n",
    "# We avaoid overfitting through regularization such as dropout while \n",
    "# monitoring validation performance during training.\n",
    "\n",
    "from torchvision import datasets, transforms\n",
    "import torch\n",
    "\n",
    "transform = transforms.Compose([transforms.ToTensor(),\n",
    "                               transforms.Normalize((0.5,),\n",
    "                              (0.5,)),])\n",
    "trainset = datasets.FashionMNIST('~/. pytorch/F_MNIST_data/', download = True, train=True,\n",
    "                                transform = transform)\n",
    "trainloader = torch.utils.data.DataLoader(trainset, batch_size = 100, shuffle=True)\n",
    "\n",
    "testset = datasets.FashionMNIST('~/. pytorch/F_MNIST_data/', download = True, train=False,\n",
    "                                transform = transform)\n",
    "testloader = torch.utils.data.DataLoader(testset, batch_size = 100, shuffle=True)"
   ]
  },
  {
   "cell_type": "code",
   "execution_count": 24,
   "metadata": {},
   "outputs": [],
   "source": [
    "from torch import nn, optim\n",
    "import torch.nn.functional as F\n",
    "\n",
    "class Classifier(nn.Module):\n",
    "    def __init__(self):\n",
    "        super().__init__()\n",
    "        self.fc1 = nn.Linear(784, 250)\n",
    "        self.fc2 = nn.Linear(250, 125)\n",
    "        self.fc3 = nn.Linear(125, 70)\n",
    "        self.fc4 = nn.Linear(70, 10)\n",
    "        \n",
    "        # adding dropout with 0.2 probability to reduce overfitting\n",
    "        self.dropout = nn.Dropout(p=0.2)\n",
    "        \n",
    "    def forward(self, x):\n",
    "        \n",
    "        # flattening input tensor\n",
    "        x = x.view(x.shape[0], -1)\n",
    "        \n",
    "        # Now with dropout\n",
    "        x = self.dropout(F.relu(self.fc1(x)))\n",
    "        x = self.dropout(F.relu(self.fc2(x)))\n",
    "        x = self.dropout(F.relu(self.fc3(x)))\n",
    "        \n",
    "        # in output no dropout\n",
    "        x = F.log_softmax(self.fc4(x), dim=1)\n",
    "        \n",
    "        return x"
   ]
  },
  {
   "cell_type": "code",
   "execution_count": 25,
   "metadata": {},
   "outputs": [
    {
     "name": "stdout",
     "output_type": "stream",
     "text": [
      "torch.Size([100, 10])\n"
     ]
    }
   ],
   "source": [
    "model = Classifier()\n",
    "images, labels = next(iter(testloader))\n",
    "\n",
    "prob = torch.exp(model(images))\n",
    "\n",
    "print(prob.shape)\n",
    "# print(testloader)"
   ]
  },
  {
   "cell_type": "code",
   "execution_count": 26,
   "metadata": {},
   "outputs": [
    {
     "name": "stdout",
     "output_type": "stream",
     "text": [
      "tensor([[4],\n",
      "        [4],\n",
      "        [4],\n",
      "        [4],\n",
      "        [4],\n",
      "        [4],\n",
      "        [4],\n",
      "        [4],\n",
      "        [4],\n",
      "        [4]])\n"
     ]
    }
   ],
   "source": [
    "top_p, top_class = prob.topk(1, dim=1)\n",
    "# topk gives top k values in prob, here k=1\n",
    "print(top_class[:10,:])"
   ]
  },
  {
   "cell_type": "code",
   "execution_count": 27,
   "metadata": {},
   "outputs": [
    {
     "name": "stdout",
     "output_type": "stream",
     "text": [
      "torch.Size([100, 1]) torch.Size([100])\n",
      "torch.Size([100, 1])\n"
     ]
    }
   ],
   "source": [
    "print(top_class.shape, labels.shape)\n",
    "# so to equality to work, top_class and labels must have same shape.\n",
    "equals = top_class == labels.view(*top_class.shape)\n",
    "print(equals.shape)\n",
    "# equals"
   ]
  },
  {
   "cell_type": "code",
   "execution_count": 28,
   "metadata": {},
   "outputs": [
    {
     "name": "stdout",
     "output_type": "stream",
     "text": [
      "Accuracy: 1.9999999552965164%\n"
     ]
    }
   ],
   "source": [
    "accuracy = torch.mean(equals.type(torch.FloatTensor))\n",
    "print(f'Accuracy: {accuracy.item()*100}%')"
   ]
  },
  {
   "cell_type": "code",
   "execution_count": 29,
   "metadata": {},
   "outputs": [
    {
     "name": "stdout",
     "output_type": "stream",
     "text": [
      "Epoch: 1/30..  Training Loss: 0.604..  Test Loss: 0.460..  Test Accuracy: 0.838\n",
      "Epoch: 2/30..  Training Loss: 0.458..  Test Loss: 0.411..  Test Accuracy: 0.853\n",
      "Epoch: 3/30..  Training Loss: 0.433..  Test Loss: 0.408..  Test Accuracy: 0.859\n",
      "Epoch: 4/30..  Training Loss: 0.411..  Test Loss: 0.395..  Test Accuracy: 0.864\n",
      "Epoch: 5/30..  Training Loss: 0.397..  Test Loss: 0.385..  Test Accuracy: 0.862\n",
      "Epoch: 6/30..  Training Loss: 0.388..  Test Loss: 0.382..  Test Accuracy: 0.866\n",
      "Epoch: 7/30..  Training Loss: 0.379..  Test Loss: 0.379..  Test Accuracy: 0.865\n",
      "Epoch: 8/30..  Training Loss: 0.373..  Test Loss: 0.361..  Test Accuracy: 0.871\n",
      "Epoch: 9/30..  Training Loss: 0.370..  Test Loss: 0.376..  Test Accuracy: 0.867\n",
      "Epoch: 10/30..  Training Loss: 0.367..  Test Loss: 0.362..  Test Accuracy: 0.875\n",
      "Epoch: 11/30..  Training Loss: 0.358..  Test Loss: 0.381..  Test Accuracy: 0.868\n",
      "Epoch: 12/30..  Training Loss: 0.359..  Test Loss: 0.372..  Test Accuracy: 0.873\n",
      "Epoch: 13/30..  Training Loss: 0.350..  Test Loss: 0.378..  Test Accuracy: 0.869\n",
      "Epoch: 14/30..  Training Loss: 0.345..  Test Loss: 0.367..  Test Accuracy: 0.871\n",
      "Epoch: 15/30..  Training Loss: 0.346..  Test Loss: 0.378..  Test Accuracy: 0.866\n",
      "Epoch: 16/30..  Training Loss: 0.351..  Test Loss: 0.383..  Test Accuracy: 0.867\n",
      "Epoch: 17/30..  Training Loss: 0.332..  Test Loss: 0.360..  Test Accuracy: 0.872\n",
      "Epoch: 18/30..  Training Loss: 0.334..  Test Loss: 0.360..  Test Accuracy: 0.873\n",
      "Epoch: 19/30..  Training Loss: 0.334..  Test Loss: 0.360..  Test Accuracy: 0.875\n",
      "Epoch: 20/30..  Training Loss: 0.336..  Test Loss: 0.362..  Test Accuracy: 0.879\n",
      "Epoch: 21/30..  Training Loss: 0.326..  Test Loss: 0.346..  Test Accuracy: 0.877\n",
      "Epoch: 22/30..  Training Loss: 0.322..  Test Loss: 0.355..  Test Accuracy: 0.877\n",
      "Epoch: 23/30..  Training Loss: 0.323..  Test Loss: 0.349..  Test Accuracy: 0.878\n",
      "Epoch: 24/30..  Training Loss: 0.322..  Test Loss: 0.362..  Test Accuracy: 0.876\n",
      "Epoch: 25/30..  Training Loss: 0.326..  Test Loss: 0.353..  Test Accuracy: 0.881\n",
      "Epoch: 26/30..  Training Loss: 0.321..  Test Loss: 0.348..  Test Accuracy: 0.876\n",
      "Epoch: 27/30..  Training Loss: 0.311..  Test Loss: 0.373..  Test Accuracy: 0.873\n",
      "Epoch: 28/30..  Training Loss: 0.317..  Test Loss: 0.356..  Test Accuracy: 0.879\n",
      "Epoch: 29/30..  Training Loss: 0.309..  Test Loss: 0.364..  Test Accuracy: 0.876\n",
      "Epoch: 30/30..  Training Loss: 0.309..  Test Loss: 0.357..  Test Accuracy: 0.878\n"
     ]
    }
   ],
   "source": [
    "model = Classifier()\n",
    "criterion = nn.NLLLoss()\n",
    "optimizer = optim.Adam(model.parameters(), lr=0.003)\n",
    "\n",
    "epochs = 30\n",
    "steps = 0\n",
    "train_losses, test_losses = [], []\n",
    "\n",
    "# During training we want to use dropout to prevent overfitting, but \n",
    "# during inference we want to use entire network. So we turnoff dropout\n",
    "# during validation.\n",
    "\n",
    "for e in range(epochs):\n",
    "    running_loss = 0\n",
    "    for images, labels in trainloader:\n",
    "        \n",
    "        optimizer.zero_grad()\n",
    "        \n",
    "        prob = model(images)\n",
    "        loss = criterion(prob, labels)\n",
    "        loss.backward()\n",
    "        optimizer.step()\n",
    "        \n",
    "        running_loss += loss.item()\n",
    "    else:\n",
    "        # validation pass\n",
    "        test_loss = 0\n",
    "        accuracy = 0\n",
    "        with torch.no_grad():\n",
    "            # set model to evaluation mode(to deactivate dropout)\n",
    "            model.eval()\n",
    "            for images, labels in testloader:\n",
    "                log_prob = model(images)\n",
    "                prob = torch.exp(log_prob)\n",
    "                test_loss+=criterion(log_prob, labels)\n",
    "                \n",
    "                top_p, top_class = prob.topk(1, dim=1)\n",
    "                equals = top_class == labels.view(*top_class.shape)\n",
    "                accuracy += torch.mean(equals.type(torch.FloatTensor))\n",
    "        \n",
    "        train_losses.append(running_loss/len(trainloader))\n",
    "        test_losses.append(test_loss/len(testloader))\n",
    "                                 \n",
    "        print(\"Epoch: {}/{}.. \".format(e+1, epochs),\n",
    "             \"Training Loss: {:.3f}.. \".format(running_loss/len(trainloader)),\n",
    "             \"Test Loss: {:.3f}.. \".format(test_loss/len(testloader)),\n",
    "             \"Test Accuracy: {:.3f}\".format(accuracy/len(testloader)))\n",
    "        \n",
    "        # set model back to train mode(to activate dropout)\n",
    "        model.train()"
   ]
  },
  {
   "cell_type": "code",
   "execution_count": 30,
   "metadata": {},
   "outputs": [
    {
     "data": {
      "text/plain": [
       "<matplotlib.legend.Legend at 0x7ff5414e1f50>"
      ]
     },
     "execution_count": 30,
     "metadata": {},
     "output_type": "execute_result"
    },
    {
     "data": {
      "image/png": "[encoded data removed]",
      "text/plain": [
       "<Figure size 432x288 with 1 Axes>"
      ]
     },
     "metadata": {
      "image/png": {
       "height": 248,
       "width": 380
      },
      "needs_background": "light"
     },
     "output_type": "display_data"
    }
   ],
   "source": [
    "%matplotlib inline\n",
    "%config InlineBackend.figure_format = 'retina'\n",
    "\n",
    "import matplotlib.pyplot as plt\n",
    "\n",
    "plt.plot(train_losses, label='Training Loss')\n",
    "plt.plot(test_losses, label='Validation Loss')\n",
    "plt.legend(frameon=False)\n",
    "\n",
    "\n",
    "# As the epoochs increase training loss decreases and validation loss\n",
    "# increases, ie model is overfitting. To prevent it\n",
    "# Early stopping or\n",
    "# Dropout: we randomly drop input units, this forces the model to \n",
    "# share information between weights, increasing its ability to generalize.\n"
   ]
  },
  {
   "cell_type": "markdown",
   "metadata": {},
   "source": [
    "# Saving and Loading networks"
   ]
  },
  {
   "cell_type": "code",
   "execution_count": 31,
   "metadata": {},
   "outputs": [
    {
     "name": "stdout",
     "output_type": "stream",
     "text": [
      "Model: \n",
      "\n",
      " Classifier(\n",
      "  (fc1): Linear(in_features=784, out_features=250, bias=True)\n",
      "  (fc2): Linear(in_features=250, out_features=125, bias=True)\n",
      "  (fc3): Linear(in_features=125, out_features=70, bias=True)\n",
      "  (fc4): Linear(in_features=70, out_features=10, bias=True)\n",
      "  (dropout): Dropout(p=0.2, inplace=False)\n",
      ") \n",
      "\n",
      "The state dict keys: \n",
      "\n",
      " odict_keys(['fc1.weight', 'fc1.bias', 'fc2.weight', 'fc2.bias', 'fc3.weight', 'fc3.bias', 'fc4.weight', 'fc4.bias'])\n"
     ]
    }
   ],
   "source": [
    "print(\"Model: \\n\\n\",model,\"\\n\")\n",
    "print(\"The state dict keys: \\n\\n\", model.state_dict().keys())"
   ]
  },
  {
   "cell_type": "code",
   "execution_count": 32,
   "metadata": {},
   "outputs": [],
   "source": [
    "torch.save(model.state_dict(), 'model_checkpoint.pth')"
   ]
  },
  {
   "cell_type": "code",
   "execution_count": 33,
   "metadata": {},
   "outputs": [
    {
     "name": "stdout",
     "output_type": "stream",
     "text": [
      "odict_keys(['fc1.weight', 'fc1.bias', 'fc2.weight', 'fc2.bias', 'fc3.weight', 'fc3.bias', 'fc4.weight', 'fc4.bias'])\n"
     ]
    }
   ],
   "source": [
    "state_dict = torch.load('model_checkpoint.pth')\n",
    "print(state_dict.keys())"
   ]
  },
  {
   "cell_type": "code",
   "execution_count": 34,
   "metadata": {},
   "outputs": [
    {
     "data": {
      "text/plain": [
       "<All keys matched successfully>"
      ]
     },
     "execution_count": 34,
     "metadata": {},
     "output_type": "execute_result"
    }
   ],
   "source": [
    "model.load_state_dict(state_dict)"
   ]
  },
  {
   "cell_type": "code",
   "execution_count": null,
   "metadata": {},
   "outputs": [],
   "source": []
  },
  {
   "cell_type": "code",
   "execution_count": null,
   "metadata": {},
   "outputs": [],
   "source": []
  }
 ],
 "metadata": {
  "kernelspec": {
   "display_name": "Python 3",
   "language": "python",
   "name": "python3"
  },
  "language_info": {
   "codemirror_mode": {
    "name": "ipython",
    "version": 3
   },
   "file_extension": ".py",
   "mimetype": "text/x-python",
   "name": "python",
   "nbconvert_exporter": "python",
   "pygments_lexer": "ipython3",
   "version": "3.7.6"
  }
 },
 "nbformat": 4,
 "nbformat_minor": 2
}
